{
 "cells": [
  {
   "cell_type": "code",
   "execution_count": 1,
   "id": "e875694e",
   "metadata": {},
   "outputs": [],
   "source": [
    "import numpy as np\n",
    "import pandas as pd\n",
    "import seaborn as sns\n",
    "import matplotlib.pyplot as plt"
   ]
  },
  {
   "cell_type": "code",
   "execution_count": 3,
   "id": "a2bcfa76",
   "metadata": {},
   "outputs": [
    {
     "data": {
      "text/html": [
       "<div>\n",
       "<style scoped>\n",
       "    .dataframe tbody tr th:only-of-type {\n",
       "        vertical-align: middle;\n",
       "    }\n",
       "\n",
       "    .dataframe tbody tr th {\n",
       "        vertical-align: top;\n",
       "    }\n",
       "\n",
       "    .dataframe thead th {\n",
       "        text-align: right;\n",
       "    }\n",
       "</style>\n",
       "<table border=\"1\" class=\"dataframe\">\n",
       "  <thead>\n",
       "    <tr style=\"text-align: right;\">\n",
       "      <th></th>\n",
       "      <th>auctionid</th>\n",
       "      <th>bid</th>\n",
       "      <th>bidtime</th>\n",
       "      <th>bidder</th>\n",
       "      <th>bidderrate</th>\n",
       "      <th>openbid</th>\n",
       "      <th>price</th>\n",
       "      <th>item</th>\n",
       "      <th>auction_type</th>\n",
       "    </tr>\n",
       "  </thead>\n",
       "  <tbody>\n",
       "    <tr>\n",
       "      <th>0</th>\n",
       "      <td>1638893549</td>\n",
       "      <td>175.0</td>\n",
       "      <td>2.230949</td>\n",
       "      <td>schadenfreud</td>\n",
       "      <td>0.0</td>\n",
       "      <td>99.0</td>\n",
       "      <td>177.5</td>\n",
       "      <td>Cartier wristwatch</td>\n",
       "      <td>3 day auction</td>\n",
       "    </tr>\n",
       "    <tr>\n",
       "      <th>1</th>\n",
       "      <td>1638893549</td>\n",
       "      <td>100.0</td>\n",
       "      <td>2.600116</td>\n",
       "      <td>chuik</td>\n",
       "      <td>0.0</td>\n",
       "      <td>99.0</td>\n",
       "      <td>177.5</td>\n",
       "      <td>Cartier wristwatch</td>\n",
       "      <td>3 day auction</td>\n",
       "    </tr>\n",
       "    <tr>\n",
       "      <th>2</th>\n",
       "      <td>1638893549</td>\n",
       "      <td>120.0</td>\n",
       "      <td>2.600810</td>\n",
       "      <td>kiwisstuff</td>\n",
       "      <td>2.0</td>\n",
       "      <td>99.0</td>\n",
       "      <td>177.5</td>\n",
       "      <td>Cartier wristwatch</td>\n",
       "      <td>3 day auction</td>\n",
       "    </tr>\n",
       "    <tr>\n",
       "      <th>3</th>\n",
       "      <td>1638893549</td>\n",
       "      <td>150.0</td>\n",
       "      <td>2.601076</td>\n",
       "      <td>kiwisstuff</td>\n",
       "      <td>2.0</td>\n",
       "      <td>99.0</td>\n",
       "      <td>177.5</td>\n",
       "      <td>Cartier wristwatch</td>\n",
       "      <td>3 day auction</td>\n",
       "    </tr>\n",
       "    <tr>\n",
       "      <th>4</th>\n",
       "      <td>1638893549</td>\n",
       "      <td>177.5</td>\n",
       "      <td>2.909826</td>\n",
       "      <td>eli.flint@flightsafety.co</td>\n",
       "      <td>4.0</td>\n",
       "      <td>99.0</td>\n",
       "      <td>177.5</td>\n",
       "      <td>Cartier wristwatch</td>\n",
       "      <td>3 day auction</td>\n",
       "    </tr>\n",
       "  </tbody>\n",
       "</table>\n",
       "</div>"
      ],
      "text/plain": [
       "    auctionid    bid   bidtime                     bidder  bidderrate  \\\n",
       "0  1638893549  175.0  2.230949               schadenfreud         0.0   \n",
       "1  1638893549  100.0  2.600116                      chuik         0.0   \n",
       "2  1638893549  120.0  2.600810                 kiwisstuff         2.0   \n",
       "3  1638893549  150.0  2.601076                 kiwisstuff         2.0   \n",
       "4  1638893549  177.5  2.909826  eli.flint@flightsafety.co         4.0   \n",
       "\n",
       "   openbid  price                item   auction_type  \n",
       "0     99.0  177.5  Cartier wristwatch  3 day auction  \n",
       "1     99.0  177.5  Cartier wristwatch  3 day auction  \n",
       "2     99.0  177.5  Cartier wristwatch  3 day auction  \n",
       "3     99.0  177.5  Cartier wristwatch  3 day auction  \n",
       "4     99.0  177.5  Cartier wristwatch  3 day auction  "
      ]
     },
     "execution_count": 3,
     "metadata": {},
     "output_type": "execute_result"
    }
   ],
   "source": [
    "auction=pd.read_csv(r'C:\\Users\\Vinayak\\Downloads\\auction.csv')\n",
    "auction.head()"
   ]
  },
  {
   "cell_type": "code",
   "execution_count": 5,
   "id": "a2767ac0",
   "metadata": {},
   "outputs": [
    {
     "data": {
      "text/html": [
       "<div>\n",
       "<style scoped>\n",
       "    .dataframe tbody tr th:only-of-type {\n",
       "        vertical-align: middle;\n",
       "    }\n",
       "\n",
       "    .dataframe tbody tr th {\n",
       "        vertical-align: top;\n",
       "    }\n",
       "\n",
       "    .dataframe thead th {\n",
       "        text-align: right;\n",
       "    }\n",
       "</style>\n",
       "<table border=\"1\" class=\"dataframe\">\n",
       "  <thead>\n",
       "    <tr style=\"text-align: right;\">\n",
       "      <th></th>\n",
       "      <th>auctionid</th>\n",
       "      <th>bid</th>\n",
       "      <th>bidtime</th>\n",
       "      <th>bidderrate</th>\n",
       "      <th>openbid</th>\n",
       "      <th>price</th>\n",
       "    </tr>\n",
       "  </thead>\n",
       "  <tbody>\n",
       "    <tr>\n",
       "      <th>count</th>\n",
       "      <td>1.068100e+04</td>\n",
       "      <td>10681.000000</td>\n",
       "      <td>10681.000000</td>\n",
       "      <td>10670.000000</td>\n",
       "      <td>10681.000000</td>\n",
       "      <td>10681.000000</td>\n",
       "    </tr>\n",
       "    <tr>\n",
       "      <th>mean</th>\n",
       "      <td>4.136148e+09</td>\n",
       "      <td>207.586109</td>\n",
       "      <td>3.979628</td>\n",
       "      <td>31.936739</td>\n",
       "      <td>52.246256</td>\n",
       "      <td>335.043589</td>\n",
       "    </tr>\n",
       "    <tr>\n",
       "      <th>std</th>\n",
       "      <td>2.489918e+09</td>\n",
       "      <td>323.037396</td>\n",
       "      <td>2.353386</td>\n",
       "      <td>120.594074</td>\n",
       "      <td>168.453245</td>\n",
       "      <td>433.566009</td>\n",
       "    </tr>\n",
       "    <tr>\n",
       "      <th>min</th>\n",
       "      <td>1.638844e+09</td>\n",
       "      <td>0.010000</td>\n",
       "      <td>0.000567</td>\n",
       "      <td>-4.000000</td>\n",
       "      <td>0.010000</td>\n",
       "      <td>26.000000</td>\n",
       "    </tr>\n",
       "    <tr>\n",
       "      <th>25%</th>\n",
       "      <td>3.015329e+09</td>\n",
       "      <td>72.000000</td>\n",
       "      <td>1.949931</td>\n",
       "      <td>1.000000</td>\n",
       "      <td>1.000000</td>\n",
       "      <td>186.510000</td>\n",
       "    </tr>\n",
       "    <tr>\n",
       "      <th>50%</th>\n",
       "      <td>3.020526e+09</td>\n",
       "      <td>140.000000</td>\n",
       "      <td>4.140833</td>\n",
       "      <td>5.000000</td>\n",
       "      <td>4.990000</td>\n",
       "      <td>228.490000</td>\n",
       "    </tr>\n",
       "    <tr>\n",
       "      <th>75%</th>\n",
       "      <td>8.212136e+09</td>\n",
       "      <td>210.000000</td>\n",
       "      <td>6.448060</td>\n",
       "      <td>21.000000</td>\n",
       "      <td>50.000000</td>\n",
       "      <td>255.000000</td>\n",
       "    </tr>\n",
       "    <tr>\n",
       "      <th>max</th>\n",
       "      <td>8.215611e+09</td>\n",
       "      <td>5400.000000</td>\n",
       "      <td>6.999990</td>\n",
       "      <td>3140.000000</td>\n",
       "      <td>5000.000000</td>\n",
       "      <td>5400.000000</td>\n",
       "    </tr>\n",
       "  </tbody>\n",
       "</table>\n",
       "</div>"
      ],
      "text/plain": [
       "          auctionid           bid       bidtime    bidderrate       openbid  \\\n",
       "count  1.068100e+04  10681.000000  10681.000000  10670.000000  10681.000000   \n",
       "mean   4.136148e+09    207.586109      3.979628     31.936739     52.246256   \n",
       "std    2.489918e+09    323.037396      2.353386    120.594074    168.453245   \n",
       "min    1.638844e+09      0.010000      0.000567     -4.000000      0.010000   \n",
       "25%    3.015329e+09     72.000000      1.949931      1.000000      1.000000   \n",
       "50%    3.020526e+09    140.000000      4.140833      5.000000      4.990000   \n",
       "75%    8.212136e+09    210.000000      6.448060     21.000000     50.000000   \n",
       "max    8.215611e+09   5400.000000      6.999990   3140.000000   5000.000000   \n",
       "\n",
       "              price  \n",
       "count  10681.000000  \n",
       "mean     335.043589  \n",
       "std      433.566009  \n",
       "min       26.000000  \n",
       "25%      186.510000  \n",
       "50%      228.490000  \n",
       "75%      255.000000  \n",
       "max     5400.000000  "
      ]
     },
     "execution_count": 5,
     "metadata": {},
     "output_type": "execute_result"
    }
   ],
   "source": [
    "auction.describe()"
   ]
  },
  {
   "cell_type": "code",
   "execution_count": 6,
   "id": "69e4cc2f",
   "metadata": {},
   "outputs": [
    {
     "data": {
      "text/plain": [
       "auctionid        0\n",
       "bid              0\n",
       "bidtime          0\n",
       "bidder          16\n",
       "bidderrate      11\n",
       "openbid          0\n",
       "price            0\n",
       "item             0\n",
       "auction_type     0\n",
       "dtype: int64"
      ]
     },
     "execution_count": 6,
     "metadata": {},
     "output_type": "execute_result"
    }
   ],
   "source": [
    "auction.isnull().sum()"
   ]
  },
  {
   "cell_type": "code",
   "execution_count": 7,
   "id": "2b2283d1",
   "metadata": {},
   "outputs": [
    {
     "data": {
      "text/plain": [
       "(10681, 9)"
      ]
     },
     "execution_count": 7,
     "metadata": {},
     "output_type": "execute_result"
    }
   ],
   "source": [
    "auction.shape"
   ]
  },
  {
   "cell_type": "code",
   "execution_count": 10,
   "id": "736842aa",
   "metadata": {},
   "outputs": [
    {
     "data": {
      "text/html": [
       "<div>\n",
       "<style scoped>\n",
       "    .dataframe tbody tr th:only-of-type {\n",
       "        vertical-align: middle;\n",
       "    }\n",
       "\n",
       "    .dataframe tbody tr th {\n",
       "        vertical-align: top;\n",
       "    }\n",
       "\n",
       "    .dataframe thead th {\n",
       "        text-align: right;\n",
       "    }\n",
       "</style>\n",
       "<table border=\"1\" class=\"dataframe\">\n",
       "  <thead>\n",
       "    <tr style=\"text-align: right;\">\n",
       "      <th></th>\n",
       "      <th>auctionid</th>\n",
       "      <th>bid</th>\n",
       "      <th>bidtime</th>\n",
       "      <th>bidder</th>\n",
       "      <th>bidderrate</th>\n",
       "      <th>openbid</th>\n",
       "      <th>price</th>\n",
       "      <th>item</th>\n",
       "      <th>auction_type</th>\n",
       "    </tr>\n",
       "  </thead>\n",
       "  <tbody>\n",
       "    <tr>\n",
       "      <th>0</th>\n",
       "      <td>1638893549</td>\n",
       "      <td>175.00</td>\n",
       "      <td>2.230949</td>\n",
       "      <td>schadenfreud</td>\n",
       "      <td>0.0</td>\n",
       "      <td>99.00</td>\n",
       "      <td>177.50</td>\n",
       "      <td>Cartier wristwatch</td>\n",
       "      <td>3 day auction</td>\n",
       "    </tr>\n",
       "    <tr>\n",
       "      <th>1</th>\n",
       "      <td>1638893549</td>\n",
       "      <td>100.00</td>\n",
       "      <td>2.600116</td>\n",
       "      <td>chuik</td>\n",
       "      <td>0.0</td>\n",
       "      <td>99.00</td>\n",
       "      <td>177.50</td>\n",
       "      <td>Cartier wristwatch</td>\n",
       "      <td>3 day auction</td>\n",
       "    </tr>\n",
       "    <tr>\n",
       "      <th>2</th>\n",
       "      <td>1638893549</td>\n",
       "      <td>120.00</td>\n",
       "      <td>2.600810</td>\n",
       "      <td>kiwisstuff</td>\n",
       "      <td>2.0</td>\n",
       "      <td>99.00</td>\n",
       "      <td>177.50</td>\n",
       "      <td>Cartier wristwatch</td>\n",
       "      <td>3 day auction</td>\n",
       "    </tr>\n",
       "    <tr>\n",
       "      <th>3</th>\n",
       "      <td>1638893549</td>\n",
       "      <td>150.00</td>\n",
       "      <td>2.601076</td>\n",
       "      <td>kiwisstuff</td>\n",
       "      <td>2.0</td>\n",
       "      <td>99.00</td>\n",
       "      <td>177.50</td>\n",
       "      <td>Cartier wristwatch</td>\n",
       "      <td>3 day auction</td>\n",
       "    </tr>\n",
       "    <tr>\n",
       "      <th>4</th>\n",
       "      <td>1638893549</td>\n",
       "      <td>177.50</td>\n",
       "      <td>2.909826</td>\n",
       "      <td>eli.flint@flightsafety.co</td>\n",
       "      <td>4.0</td>\n",
       "      <td>99.00</td>\n",
       "      <td>177.50</td>\n",
       "      <td>Cartier wristwatch</td>\n",
       "      <td>3 day auction</td>\n",
       "    </tr>\n",
       "    <tr>\n",
       "      <th>...</th>\n",
       "      <td>...</td>\n",
       "      <td>...</td>\n",
       "      <td>...</td>\n",
       "      <td>...</td>\n",
       "      <td>...</td>\n",
       "      <td>...</td>\n",
       "      <td>...</td>\n",
       "      <td>...</td>\n",
       "      <td>...</td>\n",
       "    </tr>\n",
       "    <tr>\n",
       "      <th>10676</th>\n",
       "      <td>8214889177</td>\n",
       "      <td>61.00</td>\n",
       "      <td>6.359155</td>\n",
       "      <td>714ark</td>\n",
       "      <td>15.0</td>\n",
       "      <td>0.01</td>\n",
       "      <td>90.01</td>\n",
       "      <td>Xbox game console</td>\n",
       "      <td>7 day auction</td>\n",
       "    </tr>\n",
       "    <tr>\n",
       "      <th>10677</th>\n",
       "      <td>8214889177</td>\n",
       "      <td>76.00</td>\n",
       "      <td>6.359294</td>\n",
       "      <td>rjdorman</td>\n",
       "      <td>1.0</td>\n",
       "      <td>0.01</td>\n",
       "      <td>90.01</td>\n",
       "      <td>Xbox game console</td>\n",
       "      <td>7 day auction</td>\n",
       "    </tr>\n",
       "    <tr>\n",
       "      <th>10678</th>\n",
       "      <td>8214889177</td>\n",
       "      <td>90.00</td>\n",
       "      <td>6.428738</td>\n",
       "      <td>baylorjeep</td>\n",
       "      <td>3.0</td>\n",
       "      <td>0.01</td>\n",
       "      <td>90.01</td>\n",
       "      <td>Xbox game console</td>\n",
       "      <td>7 day auction</td>\n",
       "    </tr>\n",
       "    <tr>\n",
       "      <th>10679</th>\n",
       "      <td>8214889177</td>\n",
       "      <td>88.00</td>\n",
       "      <td>6.760081</td>\n",
       "      <td>jasonjasonparis</td>\n",
       "      <td>18.0</td>\n",
       "      <td>0.01</td>\n",
       "      <td>90.01</td>\n",
       "      <td>Xbox game console</td>\n",
       "      <td>7 day auction</td>\n",
       "    </tr>\n",
       "    <tr>\n",
       "      <th>10680</th>\n",
       "      <td>8214889177</td>\n",
       "      <td>90.01</td>\n",
       "      <td>6.988831</td>\n",
       "      <td>gpgtpse</td>\n",
       "      <td>268.0</td>\n",
       "      <td>0.01</td>\n",
       "      <td>90.01</td>\n",
       "      <td>Xbox game console</td>\n",
       "      <td>7 day auction</td>\n",
       "    </tr>\n",
       "  </tbody>\n",
       "</table>\n",
       "<p>10654 rows × 9 columns</p>\n",
       "</div>"
      ],
      "text/plain": [
       "        auctionid     bid   bidtime                     bidder  bidderrate  \\\n",
       "0      1638893549  175.00  2.230949               schadenfreud         0.0   \n",
       "1      1638893549  100.00  2.600116                      chuik         0.0   \n",
       "2      1638893549  120.00  2.600810                 kiwisstuff         2.0   \n",
       "3      1638893549  150.00  2.601076                 kiwisstuff         2.0   \n",
       "4      1638893549  177.50  2.909826  eli.flint@flightsafety.co         4.0   \n",
       "...           ...     ...       ...                        ...         ...   \n",
       "10676  8214889177   61.00  6.359155                     714ark        15.0   \n",
       "10677  8214889177   76.00  6.359294                   rjdorman         1.0   \n",
       "10678  8214889177   90.00  6.428738                 baylorjeep         3.0   \n",
       "10679  8214889177   88.00  6.760081            jasonjasonparis        18.0   \n",
       "10680  8214889177   90.01  6.988831                    gpgtpse       268.0   \n",
       "\n",
       "       openbid   price                item   auction_type  \n",
       "0        99.00  177.50  Cartier wristwatch  3 day auction  \n",
       "1        99.00  177.50  Cartier wristwatch  3 day auction  \n",
       "2        99.00  177.50  Cartier wristwatch  3 day auction  \n",
       "3        99.00  177.50  Cartier wristwatch  3 day auction  \n",
       "4        99.00  177.50  Cartier wristwatch  3 day auction  \n",
       "...        ...     ...                 ...            ...  \n",
       "10676     0.01   90.01   Xbox game console  7 day auction  \n",
       "10677     0.01   90.01   Xbox game console  7 day auction  \n",
       "10678     0.01   90.01   Xbox game console  7 day auction  \n",
       "10679     0.01   90.01   Xbox game console  7 day auction  \n",
       "10680     0.01   90.01   Xbox game console  7 day auction  \n",
       "\n",
       "[10654 rows x 9 columns]"
      ]
     },
     "execution_count": 10,
     "metadata": {},
     "output_type": "execute_result"
    }
   ],
   "source": [
    "auction.dropna(axis=0)"
   ]
  },
  {
   "cell_type": "code",
   "execution_count": 12,
   "id": "752ed62e",
   "metadata": {},
   "outputs": [
    {
     "data": {
      "text/plain": [
       "0"
      ]
     },
     "execution_count": 12,
     "metadata": {},
     "output_type": "execute_result"
    }
   ],
   "source": [
    "auction.duplicated().sum()"
   ]
  },
  {
   "cell_type": "code",
   "execution_count": 16,
   "id": "04a75cf4",
   "metadata": {},
   "outputs": [
    {
     "data": {
      "text/plain": [
       "<AxesSubplot:xlabel='item', ylabel='price'>"
      ]
     },
     "execution_count": 16,
     "metadata": {},
     "output_type": "execute_result"
    },
    {
     "data": {
      "image/png": "[encoded data removed]",
      "text/plain": [
       "<Figure size 864x576 with 1 Axes>"
      ]
     },
     "metadata": {
      "needs_background": "light"
     },
     "output_type": "display_data"
    }
   ],
   "source": [
    "plt.figure(figsize=(12,8))\n",
    "sns.boxplot(x=auction.item,y=auction.price)"
   ]
  },
  {
   "cell_type": "code",
   "execution_count": 18,
   "id": "b4fdf539",
   "metadata": {},
   "outputs": [
    {
     "data": {
      "text/plain": [
       "7 day auction    66.087854\n",
       "3 day auction    18.988173\n",
       "5 day auction    15.177398\n",
       "Name: auction_type, dtype: float64"
      ]
     },
     "execution_count": 18,
     "metadata": {},
     "output_type": "execute_result"
    }
   ],
   "source": [
    "auction['auction_type'].value_counts().apply(lambda x:(x/10654)*100)"
   ]
  },
  {
   "cell_type": "code",
   "execution_count": 20,
   "id": "401e4428",
   "metadata": {},
   "outputs": [
    {
     "data": {
      "text/plain": [
       "<AxesSubplot:title={'center':'perc of auction types'}>"
      ]
     },
     "execution_count": 20,
     "metadata": {},
     "output_type": "execute_result"
    },
    {
     "data": {
      "image/png": "[encoded data removed]",
      "text/plain": [
       "<Figure size 864x576 with 1 Axes>"
      ]
     },
     "metadata": {
      "needs_background": "light"
     },
     "output_type": "display_data"
    }
   ],
   "source": [
    "plt.figure(figsize=(12,8))\n",
    "(auction['auction_type'].value_counts().apply(lambda x:(x/10654)*100)).plot(kind='bar',title=\"perc of auction types\")"
   ]
  },
  {
   "cell_type": "markdown",
   "id": "40946116",
   "metadata": {},
   "source": [
    "Percentage breakdown of three types of auctions\n",
    "\n",
    "\n",
    "\n",
    "7 day auction    66.087854\n",
    "\n",
    "\n",
    "\n",
    "\n",
    "3 day auction    18.988173\n",
    "\n",
    "\n",
    "\n",
    "5 day auction    15.177398"
   ]
  },
  {
   "cell_type": "code",
   "execution_count": 21,
   "id": "42c66142",
   "metadata": {},
   "outputs": [
    {
     "data": {
      "text/plain": [
       "Text(0.5, 1.0, 'Number of items sold by auction')"
      ]
     },
     "execution_count": 21,
     "metadata": {},
     "output_type": "execute_result"
    },
    {
     "data": {
      "image/png": "[encoded data removed]",
      "text/plain": [
       "<Figure size 432x288 with 1 Axes>"
      ]
     },
     "metadata": {
      "needs_background": "light"
     },
     "output_type": "display_data"
    }
   ],
   "source": [
    "pd.crosstab(auction.auction_type,auction.item).apply(lambda x:100*x/sum(x),axis=1).plot(kind='bar').set_title(\"Number of items sold by auction\")"
   ]
  },
  {
   "cell_type": "code",
   "execution_count": 22,
   "id": "ff3c7e49",
   "metadata": {},
   "outputs": [
    {
     "data": {
      "text/html": [
       "<div>\n",
       "<style scoped>\n",
       "    .dataframe tbody tr th:only-of-type {\n",
       "        vertical-align: middle;\n",
       "    }\n",
       "\n",
       "    .dataframe tbody tr th {\n",
       "        vertical-align: top;\n",
       "    }\n",
       "\n",
       "    .dataframe thead th {\n",
       "        text-align: right;\n",
       "    }\n",
       "</style>\n",
       "<table border=\"1\" class=\"dataframe\">\n",
       "  <thead>\n",
       "    <tr style=\"text-align: right;\">\n",
       "      <th>item</th>\n",
       "      <th>Cartier wristwatch</th>\n",
       "      <th>Palm Pilot M515 PDA</th>\n",
       "      <th>Xbox game console</th>\n",
       "    </tr>\n",
       "    <tr>\n",
       "      <th>auction_type</th>\n",
       "      <th></th>\n",
       "      <th></th>\n",
       "      <th></th>\n",
       "    </tr>\n",
       "  </thead>\n",
       "  <tbody>\n",
       "    <tr>\n",
       "      <th>3 day auction</th>\n",
       "      <td>12.357884</td>\n",
       "      <td>60.108749</td>\n",
       "      <td>27.533366</td>\n",
       "    </tr>\n",
       "    <tr>\n",
       "      <th>5 day auction</th>\n",
       "      <td>21.954236</td>\n",
       "      <td>53.741497</td>\n",
       "      <td>24.304267</td>\n",
       "    </tr>\n",
       "    <tr>\n",
       "      <th>7 day auction</th>\n",
       "      <td>19.145008</td>\n",
       "      <td>54.424087</td>\n",
       "      <td>26.430905</td>\n",
       "    </tr>\n",
       "  </tbody>\n",
       "</table>\n",
       "</div>"
      ],
      "text/plain": [
       "item           Cartier wristwatch  Palm Pilot M515 PDA  Xbox game console\n",
       "auction_type                                                             \n",
       "3 day auction           12.357884            60.108749          27.533366\n",
       "5 day auction           21.954236            53.741497          24.304267\n",
       "7 day auction           19.145008            54.424087          26.430905"
      ]
     },
     "execution_count": 22,
     "metadata": {},
     "output_type": "execute_result"
    }
   ],
   "source": [
    "pd.crosstab(auction.auction_type,auction.item).apply(lambda x:100*x/sum(x),axis=1)"
   ]
  },
  {
   "cell_type": "code",
   "execution_count": 23,
   "id": "3aa2eaa9",
   "metadata": {},
   "outputs": [
    {
     "data": {
      "text/html": [
       "<div>\n",
       "<style scoped>\n",
       "    .dataframe tbody tr th:only-of-type {\n",
       "        vertical-align: middle;\n",
       "    }\n",
       "\n",
       "    .dataframe tbody tr th {\n",
       "        vertical-align: top;\n",
       "    }\n",
       "\n",
       "    .dataframe thead th {\n",
       "        text-align: right;\n",
       "    }\n",
       "</style>\n",
       "<table border=\"1\" class=\"dataframe\">\n",
       "  <thead>\n",
       "    <tr style=\"text-align: right;\">\n",
       "      <th>item</th>\n",
       "      <th>Cartier wristwatch</th>\n",
       "      <th>Palm Pilot M515 PDA</th>\n",
       "      <th>Xbox game console</th>\n",
       "    </tr>\n",
       "    <tr>\n",
       "      <th>auction_type</th>\n",
       "      <th></th>\n",
       "      <th></th>\n",
       "      <th></th>\n",
       "    </tr>\n",
       "  </thead>\n",
       "  <tbody>\n",
       "    <tr>\n",
       "      <th>3 day auction</th>\n",
       "      <td>405.00</td>\n",
       "      <td>225.0</td>\n",
       "      <td>122.5</td>\n",
       "    </tr>\n",
       "    <tr>\n",
       "      <th>5 day auction</th>\n",
       "      <td>731.21</td>\n",
       "      <td>232.5</td>\n",
       "      <td>122.5</td>\n",
       "    </tr>\n",
       "    <tr>\n",
       "      <th>7 day auction</th>\n",
       "      <td>623.26</td>\n",
       "      <td>232.5</td>\n",
       "      <td>132.5</td>\n",
       "    </tr>\n",
       "  </tbody>\n",
       "</table>\n",
       "</div>"
      ],
      "text/plain": [
       "item           Cartier wristwatch  Palm Pilot M515 PDA  Xbox game console\n",
       "auction_type                                                             \n",
       "3 day auction              405.00                225.0              122.5\n",
       "5 day auction              731.21                232.5              122.5\n",
       "7 day auction              623.26                232.5              132.5"
      ]
     },
     "execution_count": 23,
     "metadata": {},
     "output_type": "execute_result"
    }
   ],
   "source": [
    "auction.pivot_table(index='auction_type',columns='item',values='price',aggfunc=np.median )"
   ]
  },
  {
   "cell_type": "code",
   "execution_count": 30,
   "id": "6bf1a4cc",
   "metadata": {},
   "outputs": [
    {
     "data": {
      "text/plain": [
       "Text(0.5, 1.0, 'Median price of items auctioned by type')"
      ]
     },
     "execution_count": 30,
     "metadata": {},
     "output_type": "execute_result"
    },
    {
     "data": {
      "text/plain": [
       "<Figure size 1440x576 with 0 Axes>"
      ]
     },
     "metadata": {},
     "output_type": "display_data"
    },
    {
     "data": {
      "image/png": "[encoded data removed]",
      "text/plain": [
       "<Figure size 432x288 with 1 Axes>"
      ]
     },
     "metadata": {
      "needs_background": "light"
     },
     "output_type": "display_data"
    }
   ],
   "source": [
    "plt.figure(figsize=(20,8))\n",
    "(auction.pivot_table(index='auction_type',columns='item',values='price',aggfunc=np.median )).plot(kind='bar').set_title(\"Median price of items auctioned by type\")\n"
   ]
  },
  {
   "cell_type": "code",
   "execution_count": 31,
   "id": "46c69c53",
   "metadata": {},
   "outputs": [
    {
     "data": {
      "text/plain": [
       "Text(0.5, 1.0, 'Median Open bid of items by type')"
      ]
     },
     "execution_count": 31,
     "metadata": {},
     "output_type": "execute_result"
    },
    {
     "data": {
      "text/plain": [
       "<Figure size 864x576 with 0 Axes>"
      ]
     },
     "metadata": {},
     "output_type": "display_data"
    },
    {
     "data": {
      "image/png": "[encoded data removed]",
      "text/plain": [
       "<Figure size 432x288 with 1 Axes>"
      ]
     },
     "metadata": {
      "needs_background": "light"
     },
     "output_type": "display_data"
    }
   ],
   "source": [
    "plt.figure(figsize=(12,8))\n",
    "auction.pivot_table(index='auction_type',columns='item',values='openbid',aggfunc=np.median).plot(kind='bar').set_title(\"Median Open bid of items by type\")"
   ]
  },
  {
   "cell_type": "markdown",
   "id": "f64b8e8a",
   "metadata": {},
   "source": [
    "Distributions\n"
   ]
  },
  {
   "cell_type": "code",
   "execution_count": 32,
   "id": "8a97038d",
   "metadata": {},
   "outputs": [
    {
     "name": "stderr",
     "output_type": "stream",
     "text": [
      "C:\\Users\\Vinayak\\anaconda3\\lib\\site-packages\\seaborn\\distributions.py:2557: FutureWarning: `distplot` is a deprecated function and will be removed in a future version. Please adapt your code to use either `displot` (a figure-level function with similar flexibility) or `histplot` (an axes-level function for histograms).\n",
      "  warnings.warn(msg, FutureWarning)\n"
     ]
    },
    {
     "data": {
      "text/plain": [
       "<AxesSubplot:xlabel='price', ylabel='Density'>"
      ]
     },
     "execution_count": 32,
     "metadata": {},
     "output_type": "execute_result"
    },
    {
     "data": {
      "image/png": "[encoded data removed]",
      "text/plain": [
       "<Figure size 432x288 with 1 Axes>"
      ]
     },
     "metadata": {
      "needs_background": "light"
     },
     "output_type": "display_data"
    }
   ],
   "source": [
    "sns.distplot(auction.loc[auction.item=='Cartier wristwatch'].price)"
   ]
  },
  {
   "cell_type": "code",
   "execution_count": 33,
   "id": "94e2e53d",
   "metadata": {},
   "outputs": [
    {
     "name": "stderr",
     "output_type": "stream",
     "text": [
      "C:\\Users\\Vinayak\\anaconda3\\lib\\site-packages\\seaborn\\distributions.py:2557: FutureWarning: `distplot` is a deprecated function and will be removed in a future version. Please adapt your code to use either `displot` (a figure-level function with similar flexibility) or `histplot` (an axes-level function for histograms).\n",
      "  warnings.warn(msg, FutureWarning)\n"
     ]
    },
    {
     "data": {
      "text/plain": [
       "<AxesSubplot:xlabel='price', ylabel='Density'>"
      ]
     },
     "execution_count": 33,
     "metadata": {},
     "output_type": "execute_result"
    },
    {
     "data": {
      "image/png": "[encoded data removed]",
      "text/plain": [
       "<Figure size 432x288 with 1 Axes>"
      ]
     },
     "metadata": {
      "needs_background": "light"
     },
     "output_type": "display_data"
    }
   ],
   "source": [
    "sns.distplot(auction.loc[auction.item=='Xbox game console'].price)"
   ]
  },
  {
   "cell_type": "code",
   "execution_count": 34,
   "id": "eec7ac5b",
   "metadata": {},
   "outputs": [
    {
     "name": "stderr",
     "output_type": "stream",
     "text": [
      "C:\\Users\\Vinayak\\anaconda3\\lib\\site-packages\\seaborn\\distributions.py:2557: FutureWarning: `distplot` is a deprecated function and will be removed in a future version. Please adapt your code to use either `displot` (a figure-level function with similar flexibility) or `histplot` (an axes-level function for histograms).\n",
      "  warnings.warn(msg, FutureWarning)\n"
     ]
    },
    {
     "data": {
      "text/plain": [
       "<AxesSubplot:xlabel='price', ylabel='Density'>"
      ]
     },
     "execution_count": 34,
     "metadata": {},
     "output_type": "execute_result"
    },
    {
     "data": {
      "image/png": "[encoded data removed]",
      "text/plain": [
       "<Figure size 432x288 with 1 Axes>"
      ]
     },
     "metadata": {
      "needs_background": "light"
     },
     "output_type": "display_data"
    }
   ],
   "source": [
    "sns.distplot(auction.loc[auction.item=='Palm Pilot M515 PDA'].price)"
   ]
  },
  {
   "cell_type": "code",
   "execution_count": 35,
   "id": "85fa22ca",
   "metadata": {},
   "outputs": [
    {
     "data": {
      "text/plain": [
       "Text(0.5, 1.0, 'Do lower bids result in more people participating')"
      ]
     },
     "execution_count": 35,
     "metadata": {},
     "output_type": "execute_result"
    },
    {
     "data": {
      "image/png": "[encoded data removed]",
      "text/plain": [
       "<Figure size 432x288 with 1 Axes>"
      ]
     },
     "metadata": {
      "needs_background": "light"
     },
     "output_type": "display_data"
    }
   ],
   "source": [
    "binned=[2,5,10,15,20,30,40,50,60,70,90,100,200,300,400,500,600,700,800,1000,2000,3000,4000,5000]\n",
    "auction['binned_openbid']=np.digitize(auction.openbid,binned)\n",
    "auction.groupby('binned_openbid').price.count().plot(kind='bar').set_title(\"Do lower bids result in more people participating\")"
   ]
  },
  {
   "cell_type": "code",
   "execution_count": 36,
   "id": "96011aaf",
   "metadata": {},
   "outputs": [
    {
     "data": {
      "text/plain": [
       "Text(0.5, 1.0, 'Do lower bids result in better prices')"
      ]
     },
     "execution_count": 36,
     "metadata": {},
     "output_type": "execute_result"
    },
    {
     "data": {
      "image/png": "[encoded data removed]",
      "text/plain": [
       "<Figure size 432x288 with 1 Axes>"
      ]
     },
     "metadata": {
      "needs_background": "light"
     },
     "output_type": "display_data"
    }
   ],
   "source": [
    "auction.groupby('binned_openbid').price.median().plot(kind='bar').set_title(\"Do lower bids result in better prices\")"
   ]
  },
  {
   "cell_type": "code",
   "execution_count": null,
   "id": "d61f2a4a",
   "metadata": {},
   "outputs": [],
   "source": []
  },
  {
   "cell_type": "code",
   "execution_count": null,
   "id": "9fc6d961",
   "metadata": {},
   "outputs": [],
   "source": []
  }
 ],
 "metadata": {
  "kernelspec": {
   "display_name": "Python 3",
   "language": "python",
   "name": "python3"
  },
  "language_info": {
   "codemirror_mode": {
    "name": "ipython",
    "version": 3
   },
   "file_extension": ".py",
   "mimetype": "text/x-python",
   "name": "python",
   "nbconvert_exporter": "python",
   "pygments_lexer": "ipython3",
   "version": "3.8.8"
  }
 },
 "nbformat": 4,
 "nbformat_minor": 5
}
